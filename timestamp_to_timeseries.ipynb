{
 "cells": [
  {
   "cell_type": "code",
   "execution_count": 1,
   "metadata": {},
   "outputs": [],
   "source": [
    "import pandas as pd\n",
    "import numpy as np\n",
    "import matplotlib.pyplot as plt\n",
    "import datetime\n",
    "import matplotlib.ticker as mticker\n",
    "import time\n",
    "import csv\n",
    "import dateutil.parser, dateutil.tz as tz\n",
    "import zoneinfo"
   ]
  },
  {
   "cell_type": "code",
   "execution_count": null,
   "metadata": {},
   "outputs": [],
   "source": [
    "categories = [\"All_Beauty\", \"Amazon_Fashion\", \"Appliances\", \"Arts_Crafts_and_Sewing\", \"Automotive\", \"Baby_Products\", \"Beauty_and_Personal_Care\", \"Books\", \"CDs_and_Vinyl\", \"Cell_Phones_and_Accessories\", \"Clothing_Shoes_and_Jewelry\", \"Digital_Music\", \"Electronics\", \"Gift_Cards\", \"Grocery_and_Gourmet_Food\", \"Handmade_Products\", \"Health_and_Household\", \"Health_and_Personal_Care\", \"Home_and_Kitchen\", \"Industrial_and_Scientific\", \"Kindle_Store\", \"Magazine_Subscriptions\", \"Movies_and_TV\", \"Musical_Instruments\", \"Office_Products\", \"Patio_Lawn_and_Garden\", \"Pet_Supplies\", \"Software\", \"Sports_and_Outdoors\", \"Subscription_Boxes\", \"Tools_and_Home_Improvement\", \"Toys_and_Games\", \"Video_Games\", \"Unknown\"]\n",
    "data_fn = '../data/amazon_reviews/All_Beauty.csv'\n",
    "headers = [\"user_id\",\"parent_asin\",\"rating\",\"timestamp\"]\n",
    "# df = pd.read_csv(data_fn, header=None, names=headers)\n",
    "# display(df)"
   ]
  },
  {
   "cell_type": "code",
   "execution_count": 3,
   "metadata": {},
   "outputs": [],
   "source": [
    "def timestamp_to_timeseries(timestamps, start_time, end_time, bin_size):\n",
    "    hist, _ = np.histogram(timestamps, bins=np.arange(start_time, end_time+bin_size, bin_size))\n",
    "    return hist\n",
    "\n",
    "def groupby(df, group_header='category_id', timestamp_header='timestamp'):\n",
    "    np_df = df[[group_header, timestamp_header]].to_numpy()\n",
    "    groups, groups_index = np.unique(np_df[:, 0], return_index=True)\n",
    "    return np.split(np_df[:,1], groups_index[1:]), groups\n",
    "\n",
    "def timeseries_to_csv(timeseries, group, csv_fn):\n",
    "    timeseries_group = [group]\n",
    "    timeseries_group.extend(list(timeseries))\n",
    "    with open(csv_fn, 'a', newline='') as file:\n",
    "        writer = csv.writer(file)\n",
    "        writer.writerow(timeseries_group)"
   ]
  },
  {
   "cell_type": "code",
   "execution_count": 7,
   "metadata": {},
   "outputs": [
    {
     "name": "stdout",
     "output_type": "stream",
     "text": [
      "830934000.0 1696057200.0\n"
     ]
    },
    {
     "data": {
      "text/plain": [
       "1602133857705"
      ]
     },
     "execution_count": 7,
     "metadata": {},
     "output_type": "execute_result"
    }
   ],
   "source": [
    "# df['time']=pd.to_datetime(df['timestamp'],unit='s')+datetime.timedelta(hours=8)\n",
    "start_time = datetime.datetime(1996, 5, 1, 00, 00).timestamp()\n",
    "end_time = datetime.datetime(2023, 9, 30, 00, 00).timestamp()\n",
    "bin_size = 60*60 # in seconds\n",
    "csv_fn = '../data/amazon_reviews_hourly.csv'\n",
    "timestamp_header = 'timestamp'\n",
    "group_header = 'category'\n",
    "print(start_time, end_time)\n",
    "\n",
    "# timeseries_to_csv(np.arange(start_time, end_time+bin_size, bin_size), group_header, csv_fn)\n",
    "# timestamps_grouped, groups= groupby(df, group_header, timestamp_header)\n",
    "# for timestamps, group in zip(timestamps_grouped, groups):\n",
    "#     timeseries = timestamp_to_timeseries(timestamps, start_time, end_time, bin_size)\n",
    "#     timeseries_to_csv(timeseries, group, csv_fn)\n",
    "\n",
    "1602133857705"
   ]
  },
  {
   "cell_type": "code",
   "execution_count": 8,
   "metadata": {},
   "outputs": [],
   "source": [
    "timeseries_to_csv(np.arange(start_time, end_time+bin_size, bin_size), group_header, csv_fn)\n",
    "for category in categories:\n",
    "    data_fn = f'../data/amazon_reviews/{category}.csv'\n",
    "    df = pd.read_csv(data_fn, header=0) \n",
    "    np_df = df[timestamp_header].to_numpy() // 1000\n",
    "    hist = timestamp_to_timeseries(np_df, start_time, end_time, bin_size)\n",
    "    timeseries_to_csv(hist, category, csv_fn)"
   ]
  },
  {
   "cell_type": "code",
   "execution_count": null,
   "metadata": {},
   "outputs": [],
   "source": []
  }
 ],
 "metadata": {
  "kernelspec": {
   "display_name": "cbm",
   "language": "python",
   "name": "python3"
  },
  "language_info": {
   "codemirror_mode": {
    "name": "ipython",
    "version": 3
   },
   "file_extension": ".py",
   "mimetype": "text/x-python",
   "name": "python",
   "nbconvert_exporter": "python",
   "pygments_lexer": "ipython3",
   "version": "3.9.20"
  }
 },
 "nbformat": 4,
 "nbformat_minor": 2
}
